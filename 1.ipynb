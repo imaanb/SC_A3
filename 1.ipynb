{
 "cells": [
  {
   "cell_type": "code",
   "execution_count": 147,
   "metadata": {},
   "outputs": [],
   "source": [
    "import numpy as np\n",
    "from scipy.sparse import diags\n",
    "from scipy.sparse.linalg import eigs\n",
    "import matplotlib.pyplot as plt\n",
    "import numpy as np\n",
    "import scipy.sparse as sp\n",
    "import numpy as np\n",
    "import scipy.sparse as sp\n",
    "import matplotlib.pyplot as plt\n",
    "from scipy.spatial import distance_matrix\n",
    "import numpy as np\n",
    "import scipy.sparse as sp\n"
   ]
  },
  {
   "cell_type": "code",
   "execution_count": 148,
   "metadata": {},
   "outputs": [
    {
     "name": "stdout",
     "output_type": "stream",
     "text": [
      "[[-4.  1.  0.  0.  1.  0.  0.  0.  0.  0.  0.  0.  0.  0.  0.  0.]\n",
      " [ 1. -4.  1.  0.  0.  1.  0.  0.  0.  0.  0.  0.  0.  0.  0.  0.]\n",
      " [ 0.  1. -4.  1.  0.  0.  1.  0.  0.  0.  0.  0.  0.  0.  0.  0.]\n",
      " [ 0.  0.  1. -4.  0.  0.  0.  1.  0.  0.  0.  0.  0.  0.  0.  0.]\n",
      " [ 1.  0.  0.  0. -4.  1.  0.  0.  1.  0.  0.  0.  0.  0.  0.  0.]\n",
      " [ 0.  1.  0.  0.  1. -4.  1.  0.  0.  1.  0.  0.  0.  0.  0.  0.]\n",
      " [ 0.  0.  1.  0.  0.  1. -4.  1.  0.  0.  1.  0.  0.  0.  0.  0.]\n",
      " [ 0.  0.  0.  1.  0.  0.  1. -4.  0.  0.  0.  1.  0.  0.  0.  0.]\n",
      " [ 0.  0.  0.  0.  1.  0.  0.  0. -4.  1.  0.  0.  1.  0.  0.  0.]\n",
      " [ 0.  0.  0.  0.  0.  1.  0.  0.  1. -4.  1.  0.  0.  1.  0.  0.]\n",
      " [ 0.  0.  0.  0.  0.  0.  1.  0.  0.  1. -4.  1.  0.  0.  1.  0.]\n",
      " [ 0.  0.  0.  0.  0.  0.  0.  1.  0.  0.  1. -4.  0.  0.  0.  1.]\n",
      " [ 0.  0.  0.  0.  0.  0.  0.  0.  1.  0.  0.  0. -4.  1.  0.  0.]\n",
      " [ 0.  0.  0.  0.  0.  0.  0.  0.  0.  1.  0.  0.  1. -4.  1.  0.]\n",
      " [ 0.  0.  0.  0.  0.  0.  0.  0.  0.  0.  1.  0.  0.  1. -4.  1.]\n",
      " [ 0.  0.  0.  0.  0.  0.  0.  0.  0.  0.  0.  1.  0.  0.  1. -4.]]\n"
     ]
    }
   ],
   "source": [
    "\n",
    "\n",
    "def laplacian_grid_square(n):\n",
    "    \"\"\"\n",
    "    Create the Laplacian matrix for an n x n grid using finite difference method.\n",
    "    :param n: Grid size (n x n)\n",
    "    :return: Sparse Laplacian matrix of shape (n^2, n^2)\n",
    "    \"\"\"\n",
    "    \n",
    "    size = n * n\n",
    "    diagonals = []\n",
    "    \n",
    "    # Main diagonal (-4)\n",
    "    diagonals.append(-4 * np.ones(size))\n",
    "    \n",
    "    # Right and left neighbor diagonals (+1)\n",
    "    diagonals.append(np.ones(size - 1))\n",
    "    diagonals.append(np.ones(size - 1))\n",
    "    \n",
    "    # Top and bottom neighbor diagonals (+1)\n",
    "    diagonals.append(np.ones(size - n))\n",
    "    diagonals.append(np.ones(size - n))\n",
    "    \n",
    "    # Convert to sparse matrix\n",
    "    offsets = [0, 1, -1, n, -n]\n",
    "    L = sp.diags(diagonals, offsets, shape=(size, size), format='csr')\n",
    "    \n",
    "    # Fix row edges (remove horizontal connections between rows)\n",
    "    for i in range(1, n):\n",
    "        L[i * n, i * n - 1] = 0\n",
    "        L[i * n - 1, i * n] = 0\n",
    " \n",
    "   \n",
    "    \n",
    "    return L\n",
    "\n",
    "# Example usage:\n",
    "n = 4\n",
    "laplacian = laplacian_grid_square(n)\n",
    "print(laplacian.toarray())\n",
    "np.savetxt(\"sqaure_laplacian_grid.txt\", laplacian.toarray(), fmt=\"%.2f\", header=\"Laplacian Matrix for n x n Grid\", comments=\"\")\n"
   ]
  },
  {
   "cell_type": "code",
   "execution_count": 149,
   "metadata": {},
   "outputs": [
    {
     "name": "stdout",
     "output_type": "stream",
     "text": [
      "8\n",
      "[[-4.  1.  0.  0.  1.  0.  0.  0.]\n",
      " [ 1. -4.  1.  0.  0.  1.  0.  0.]\n",
      " [ 0.  1. -4.  1.  0.  0.  1.  0.]\n",
      " [ 0.  0.  1. -4.  0.  0.  0.  1.]\n",
      " [ 1.  0.  0.  0. -4.  1.  0.  0.]\n",
      " [ 0.  1.  0.  0.  1. -4.  1.  0.]\n",
      " [ 0.  0.  1.  0.  0.  1. -4.  1.]\n",
      " [ 0.  0.  0.  1.  0.  0.  1. -4.]]\n"
     ]
    }
   ],
   "source": [
    "\n",
    "\n",
    "def laplacian_grid(n):\n",
    "    \"\"\"\n",
    "    Create the Laplacian matrix for an n x 2n grid using finite difference method.\n",
    "    :param n: Grid height\n",
    "    :return: Sparse Laplacian matrix of shape (2n*n, 2n*n)\n",
    "    \"\"\"\n",
    "    n = n -2\n",
    "    m = 2 * n  # Grid width\n",
    "    size = n * m\n",
    "    print(size)\n",
    "    diagonals = []\n",
    "    \n",
    "    # Main diagonal (-4)\n",
    "    diagonals.append(-4 * np.ones(size))\n",
    "    \n",
    "    # Right and left neighbor diagonals (+1)\n",
    "    diagonals.append(np.ones(size - 1))\n",
    "    diagonals.append(np.ones(size - 1))\n",
    "    \n",
    "    # Top and bottom neighbor diagonals (+1)\n",
    "    diagonals.append(np.ones(size - m))\n",
    "    diagonals.append(np.ones(size - m))\n",
    "    \n",
    "    # Convert to sparse matrix\n",
    "    offsets = [0, 1, -1, m, -m]\n",
    "    L = sp.diags(diagonals, offsets, shape=(size, size), format='csr')\n",
    "\n",
    "\n",
    "   \n",
    "    for i in range(1, n):\n",
    "        L[i * m, i * m - 1] = 0\n",
    "        L[i * m - 1, i * m] = 0\n",
    "    \n",
    "    return L\n",
    "\n",
    "# Example usage:\n",
    "\n",
    "laplacian = laplacian_grid(n)\n",
    "print(laplacian.toarray())\n",
    "np.savetxt(\"rectangle_rectangle.txt\", laplacian.toarray(), fmt=\"%.2f\", header=\"Laplacian Matrix\", comments=\"\")"
   ]
  },
  {
   "cell_type": "code",
   "execution_count": 150,
   "metadata": {},
   "outputs": [
    {
     "name": "stdout",
     "output_type": "stream",
     "text": [
      "[[-4.  1.  0. ...  0.  0.  0.]\n",
      " [ 1. -4.  1. ...  0.  0.  0.]\n",
      " [ 0.  1. -4. ...  0.  0.  0.]\n",
      " ...\n",
      " [ 0.  0.  0. ... -4.  1.  0.]\n",
      " [ 0.  0.  0. ...  1. -4.  1.]\n",
      " [ 0.  0.  0. ...  0.  1. -4.]]\n"
     ]
    },
    {
     "data": {
      "image/png": "[encoded data removed]",
      "text/plain": [
       "<Figure size 640x480 with 1 Axes>"
      ]
     },
     "metadata": {},
     "output_type": "display_data"
    }
   ],
   "source": [
    "\n",
    "\n",
    "\n",
    "def laplacian_circle(n):\n",
    "    \"\"\"\n",
    "    Create the Laplacian matrix for a circular grid with diameter n using finite difference method.\n",
    "    :param n: Diameter of the circle (approximate number of points across the circle)\n",
    "    :return: Sparse Laplacian matrix, grid points\n",
    "    \"\"\"\n",
    "    \n",
    "    # Generate circular grid points\n",
    "    radius = n / 2\n",
    "    points = []\n",
    "    for i in range(n):\n",
    "        for j in range(n):\n",
    "            x, y = i - radius, j - radius\n",
    "            if x**2 + y**2 <= radius**2:\n",
    "                points.append((i, j))\n",
    "    \n",
    "    num_points = len(points)\n",
    "    L = np.zeros((num_points, num_points))\n",
    "    \n",
    "    # Build Laplacian using finite differences\n",
    "    point_indices = {point: idx for idx, point in enumerate(points)}\n",
    "    directions = [(0, 1), (1, 0), (0, -1), (-1, 0)]  # 4-point stencil\n",
    "    \n",
    "    for (i, j), idx in point_indices.items():\n",
    "        L[idx, idx] = -4\n",
    "        for di, dj in directions:\n",
    "            neighbor = (i + di, j + dj)\n",
    "            if neighbor in point_indices:\n",
    "                neighbor_idx = point_indices[neighbor]\n",
    "                L[idx, neighbor_idx] = 1\n",
    "    \n",
    "    return sp.csr_matrix(L), points\n",
    "\n",
    "def plot_grid(points):\n",
    "    \"\"\"Plot the circular grid.\"\"\"\n",
    "    x, y = zip(*points)\n",
    "    plt.scatter(x, y, s=10, color='black')\n",
    "    plt.gca().set_aspect('equal')\n",
    "    plt.title(\"Circular Grid\")\n",
    "    plt.show()\n",
    "\n",
    "# Example usage:\n",
    "n = 25\n",
    "laplacian, grid_points = laplacian_circle(n)\n",
    "print(laplacian.toarray())\n",
    "plot_grid(grid_points)\n",
    "np.savetxt(\"circle_laplacian_points.txt\", grid_points, fmt=\"%s\", header=\"x, y\", comments=\"\")\n",
    "\n",
    "np.savetxt(\"circle_laplacian_matrix.txt\", laplacian.toarray(), fmt=\"%.2f\", header=\"Laplacian Matrix\", comments=\"\")"
   ]
  }
 ],
 "metadata": {
  "kernelspec": {
   "display_name": "Python 3",
   "language": "python",
   "name": "python3"
  },
  "language_info": {
   "codemirror_mode": {
    "name": "ipython",
    "version": 3
   },
   "file_extension": ".py",
   "mimetype": "text/x-python",
   "name": "python",
   "nbconvert_exporter": "python",
   "pygments_lexer": "ipython3",
   "version": "3.10.2"
  }
 },
 "nbformat": 4,
 "nbformat_minor": 2
}
